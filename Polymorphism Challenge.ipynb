{
 "cells": [
  {
   "cell_type": "code",
   "execution_count": 1,
   "id": "f1faf59d-ede1-4340-9812-82df01a64cc4",
   "metadata": {},
   "outputs": [
    {
     "name": "stdout",
     "output_type": "stream",
     "text": [
      "Galaxy A55 charged to 80% 🔋\n",
      "ROG Phone 8 is playing in Turbo mode 🎮\n",
      "Fast charging ROG Phone 8...\n",
      "ROG Phone 8 charged to 80% 🔋\n",
      "Galaxy A55 battery: 80%\n",
      "ROG Phone 8 battery: 80%\n"
     ]
    }
   ],
   "source": [
    "# Parent Class\n",
    "class Smartphone:\n",
    "    def __init__(self, brand, model, battery):\n",
    "        self.brand = brand\n",
    "        self.model = model\n",
    "        self.__battery = battery  # Encapsulated (private) attribute\n",
    "\n",
    "    def charge(self, amount):\n",
    "        self.__battery += amount\n",
    "        if self.__battery > 100:\n",
    "            self.__battery = 100\n",
    "        print(f\"{self.model} charged to {self.__battery}% 🔋\")\n",
    "\n",
    "    def get_battery(self):\n",
    "        return self.__battery\n",
    "\n",
    "\n",
    "# Child Class (Inheritance + Polymorphism)\n",
    "class GamingPhone(Smartphone):\n",
    "    def __init__(self, brand, model, battery, mode):\n",
    "        super().__init__(brand, model, battery)\n",
    "        self.mode = mode\n",
    "\n",
    "    def play_game(self):\n",
    "        print(f\"{self.model} is playing in {self.mode} mode 🎮\")\n",
    "\n",
    "    # Example of polymorphism (overriding a method)\n",
    "    def charge(self, amount):\n",
    "        print(f\"Fast charging {self.model}...\")\n",
    "        super().charge(amount + 10)  # Adds bonus charging speed\n",
    "\n",
    "\n",
    "# Creating objects\n",
    "phone1 = Smartphone(\"Samsung\", \"Galaxy A55\", 60)\n",
    "phone2 = GamingPhone(\"ASUS\", \"ROG Phone 8\", 40, \"Turbo\")\n",
    "\n",
    "phone1.charge(20)\n",
    "phone2.play_game()\n",
    "phone2.charge(30)\n",
    "\n",
    "print(f\"{phone1.model} battery: {phone1.get_battery()}%\")\n",
    "print(f\"{phone2.model} battery: {phone2.get_battery()}%\")\n"
   ]
  },
  {
   "cell_type": "code",
   "execution_count": 3,
   "id": "7781b34e-d0ad-4f75-a67c-3c1941592d6b",
   "metadata": {},
   "outputs": [
    {
     "name": "stdout",
     "output_type": "stream",
     "text": [
      "Driving 🚗\n",
      "Flying ✈️\n",
      "Sailing 🚤\n"
     ]
    }
   ],
   "source": [
    "class Car:\n",
    "    def move(self):\n",
    "        print(\"Driving 🚗\")\n",
    "\n",
    "class Plane:\n",
    "    def move(self):\n",
    "        print(\"Flying ✈️\")\n",
    "\n",
    "class Boat:\n",
    "    def move(self):\n",
    "        print(\"Sailing 🚤\")\n",
    "\n",
    "# Polymorphism in action\n",
    "vehicles = [Car(), Plane(), Boat()]\n",
    "\n",
    "for v in vehicles:\n",
    "    v.move()\n"
   ]
  },
  {
   "cell_type": "code",
   "execution_count": null,
   "id": "8cef0a11-39b8-421f-a424-ab6b92cec140",
   "metadata": {},
   "outputs": [],
   "source": []
  }
 ],
 "metadata": {
  "kernelspec": {
   "display_name": "Python 3 (ipykernel)",
   "language": "python",
   "name": "python3"
  },
  "language_info": {
   "codemirror_mode": {
    "name": "ipython",
    "version": 3
   },
   "file_extension": ".py",
   "mimetype": "text/x-python",
   "name": "python",
   "nbconvert_exporter": "python",
   "pygments_lexer": "ipython3",
   "version": "3.12.4"
  }
 },
 "nbformat": 4,
 "nbformat_minor": 5
}
